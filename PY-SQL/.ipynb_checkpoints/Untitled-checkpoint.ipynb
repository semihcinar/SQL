{
 "cells": [
  {
   "cell_type": "code",
   "execution_count": 1,
   "id": "f9ba95e2",
   "metadata": {},
   "outputs": [],
   "source": [
    "import pandas as pd\n",
    "import numpy as np\n",
    "import matplotlib as plt\n",
    "\n",
    "\n",
    "import pyodbc\n",
    "import pandas.io.sql\n",
    "from textblob import TextBlob\n",
    "\n",
    "import googletrans\n",
    "\n",
    "from googletrans import Translator\n",
    "import locale\n",
    "locale.setlocale(locale.LC_ALL, \"tr_TR.utf-8\")\n",
    "\n",
    "import twitter"
   ]
  },
  {
   "cell_type": "code",
   "execution_count": 2,
   "id": "faa9fe05",
   "metadata": {},
   "outputs": [],
   "source": [
    "csv = pd.read_csv('C:/Users/sc977/Downloads/twitter/k/VatanEldenGidiyor.csv')"
   ]
  },
  {
   "cell_type": "code",
   "execution_count": 3,
   "id": "e0aaef81",
   "metadata": {},
   "outputs": [],
   "source": [
    "m=csv[\"text\"]"
   ]
  },
  {
   "cell_type": "code",
   "execution_count": 4,
   "id": "dfde96fd",
   "metadata": {},
   "outputs": [
    {
     "data": {
      "text/plain": [
       "0       RT @ATAKIZI__: Bu mülteci , 10 TL karşılığında...\n",
       "1       RT @siginmacisorunu: Ankara Altındağ Önder Mah...\n",
       "2       RT @TurkDnya: \"Ey Türk! Bu vatan ya senindir, ...\n",
       "3       RT @siginmacisorunu: Altındağ'da Suriyelilerin...\n",
       "4       @atabenli BİR MİKTAR PARAYA İHTIYACIM VAR\\nPAP...\n",
       "                              ...                        \n",
       "2965    RT @siginmacisorunu: Altındağ'dan yeni görüntü...\n",
       "2966    RT @ozcainlkc: Daha düne kadar suriyeli çocukl...\n",
       "2967    RT @drkaanyl: Altındağ'da yaşananlar, yaşanaca...\n",
       "2968    RT @pinarmasal: Içimizden geçenleri çok güzel ...\n",
       "2969    RT @Sonsuzluk__1938: Benim; Pakistanlı, Afgani...\n",
       "Name: text, Length: 2970, dtype: object"
      ]
     },
     "execution_count": 4,
     "metadata": {},
     "output_type": "execute_result"
    }
   ],
   "source": [
    "for i in m [0][]"
   ]
  },
  {
   "cell_type": "code",
   "execution_count": 5,
   "id": "2a4db562",
   "metadata": {},
   "outputs": [
    {
     "name": "stdout",
     "output_type": "stream",
     "text": [
      "<class 'pandas.core.frame.DataFrame'>\n",
      "RangeIndex: 2970 entries, 0 to 2969\n",
      "Data columns (total 18 columns):\n",
      " #   Column                     Non-Null Count  Dtype  \n",
      "---  ------                     --------------  -----  \n",
      " 0   id_str                     2970 non-null   int64  \n",
      " 1   from_user                  2970 non-null   object \n",
      " 2   text                       2970 non-null   object \n",
      " 3   created_at                 2970 non-null   object \n",
      " 4   time                       2970 non-null   object \n",
      " 5   geo_coordinates            0 non-null      float64\n",
      " 6   user_lang                  0 non-null      float64\n",
      " 7   in_reply_to_user_id_str    148 non-null    float64\n",
      " 8   in_reply_to_screen_name    148 non-null    object \n",
      " 9   from_user_id_str           2970 non-null   int64  \n",
      " 10  in_reply_to_status_id_str  144 non-null    float64\n",
      " 11  source                     2970 non-null   object \n",
      " 12  profile_image_url          2970 non-null   object \n",
      " 13  user_followers_count       2751 non-null   float64\n",
      " 14  user_friends_count         2892 non-null   float64\n",
      " 15  user_location              1113 non-null   object \n",
      " 16  status_url                 2970 non-null   object \n",
      " 17  entities_str               2970 non-null   object \n",
      "dtypes: float64(6), int64(2), object(10)\n",
      "memory usage: 417.8+ KB\n"
     ]
    }
   ],
   "source": [
    "csv.info()"
   ]
  },
  {
   "cell_type": "code",
   "execution_count": null,
   "id": "246e0a40",
   "metadata": {},
   "outputs": [],
   "source": []
  }
 ],
 "metadata": {
  "kernelspec": {
   "display_name": "Python 3",
   "language": "python",
   "name": "python3"
  },
  "language_info": {
   "codemirror_mode": {
    "name": "ipython",
    "version": 3
   },
   "file_extension": ".py",
   "mimetype": "text/x-python",
   "name": "python",
   "nbconvert_exporter": "python",
   "pygments_lexer": "ipython3",
   "version": "3.8.8"
  }
 },
 "nbformat": 4,
 "nbformat_minor": 5
}
