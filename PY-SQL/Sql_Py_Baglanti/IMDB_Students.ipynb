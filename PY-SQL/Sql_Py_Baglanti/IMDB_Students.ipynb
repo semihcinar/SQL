{
 "cells": [
  {
   "cell_type": "code",
   "execution_count": 18,
   "id": "25b1cdbb",
   "metadata": {},
   "outputs": [],
   "source": [
    "import pyodbc\n",
    "import pandas as pd\n",
    "import seaborn as sns"
   ]
  },
  {
   "cell_type": "markdown",
   "id": "4559d3dd",
   "metadata": {},
   "source": [
    "**1- Import the \"IMDB top 1000_LV.csv\" dataset with Python.**"
   ]
  },
  {
   "cell_type": "code",
   "execution_count": 19,
   "id": "1f404655",
   "metadata": {},
   "outputs": [
    {
     "data": {
      "text/plain": [
       "'C:\\\\Users\\\\sc977\\\\GDriveNew\\\\CLARUSWAY\\\\Sql\\\\Sql_Py_Baglanti'"
      ]
     },
     "execution_count": 19,
     "metadata": {},
     "output_type": "execute_result"
    }
   ],
   "source": [
    "pwd"
   ]
  },
  {
   "cell_type": "code",
   "execution_count": 20,
   "id": "a45c0ad4",
   "metadata": {},
   "outputs": [],
   "source": [
    "df = pd.read_csv('IMDB top 1000_LV.csv')"
   ]
  },
  {
   "cell_type": "markdown",
   "id": "3538bd1e",
   "metadata": {},
   "source": [
    "**2- Create an empty table in a database with Python.**"
   ]
  },
  {
   "cell_type": "code",
   "execution_count": 21,
   "id": "a8487c75",
   "metadata": {},
   "outputs": [
    {
     "data": {
      "text/html": [
       "<div>\n",
       "<style scoped>\n",
       "    .dataframe tbody tr th:only-of-type {\n",
       "        vertical-align: middle;\n",
       "    }\n",
       "\n",
       "    .dataframe tbody tr th {\n",
       "        vertical-align: top;\n",
       "    }\n",
       "\n",
       "    .dataframe thead th {\n",
       "        text-align: right;\n",
       "    }\n",
       "</style>\n",
       "<table border=\"1\" class=\"dataframe\">\n",
       "  <thead>\n",
       "    <tr style=\"text-align: right;\">\n",
       "      <th></th>\n",
       "      <th>Movie_ID</th>\n",
       "      <th>Title</th>\n",
       "      <th>Certificate</th>\n",
       "      <th>Duration</th>\n",
       "      <th>Genre</th>\n",
       "      <th>Rate</th>\n",
       "      <th>Metascore</th>\n",
       "      <th>Description</th>\n",
       "      <th>Year</th>\n",
       "      <th>Directors</th>\n",
       "      <th>Stars</th>\n",
       "      <th>Votes</th>\n",
       "      <th>Gross($M)</th>\n",
       "    </tr>\n",
       "  </thead>\n",
       "  <tbody>\n",
       "    <tr>\n",
       "      <th>0</th>\n",
       "      <td>1</td>\n",
       "      <td>The Shawshank Redemption</td>\n",
       "      <td>13+</td>\n",
       "      <td>142</td>\n",
       "      <td>Drama</td>\n",
       "      <td>9.3</td>\n",
       "      <td>80</td>\n",
       "      <td>Two imprisoned men bond over a number of years...</td>\n",
       "      <td>1994</td>\n",
       "      <td>Frank Darabont</td>\n",
       "      <td>Tim Robbins, Morgan Freeman, Bob Gunton, Willi...</td>\n",
       "      <td>2377444</td>\n",
       "      <td>28.34</td>\n",
       "    </tr>\n",
       "    <tr>\n",
       "      <th>1</th>\n",
       "      <td>2</td>\n",
       "      <td>The Godfather</td>\n",
       "      <td>16</td>\n",
       "      <td>175</td>\n",
       "      <td>Crime, Drama</td>\n",
       "      <td>9.2</td>\n",
       "      <td>100</td>\n",
       "      <td>An organized crime dynasty's aging patriarch t...</td>\n",
       "      <td>1972</td>\n",
       "      <td>Francis Ford Coppola</td>\n",
       "      <td>Marlon Brando, Al Pacino, James Caan, Diane Ke...</td>\n",
       "      <td>1646788</td>\n",
       "      <td>134.97</td>\n",
       "    </tr>\n",
       "  </tbody>\n",
       "</table>\n",
       "</div>"
      ],
      "text/plain": [
       "   Movie_ID                     Title Certificate  Duration         Genre  \\\n",
       "0         1  The Shawshank Redemption         13+       142         Drama   \n",
       "1         2             The Godfather          16       175  Crime, Drama   \n",
       "\n",
       "   Rate  Metascore                                        Description  Year  \\\n",
       "0   9.3         80  Two imprisoned men bond over a number of years...  1994   \n",
       "1   9.2        100  An organized crime dynasty's aging patriarch t...  1972   \n",
       "\n",
       "              Directors                                              Stars  \\\n",
       "0        Frank Darabont  Tim Robbins, Morgan Freeman, Bob Gunton, Willi...   \n",
       "1  Francis Ford Coppola  Marlon Brando, Al Pacino, James Caan, Diane Ke...   \n",
       "\n",
       "     Votes  Gross($M)  \n",
       "0  2377444      28.34  \n",
       "1  1646788     134.97  "
      ]
     },
     "execution_count": 21,
     "metadata": {},
     "output_type": "execute_result"
    }
   ],
   "source": [
    "df.head(2)"
   ]
  },
  {
   "cell_type": "code",
   "execution_count": 22,
   "id": "ce0c9909",
   "metadata": {},
   "outputs": [
    {
     "name": "stdout",
     "output_type": "stream",
     "text": [
      "<class 'pandas.core.frame.DataFrame'>\n",
      "RangeIndex: 1000 entries, 0 to 999\n",
      "Data columns (total 13 columns):\n",
      " #   Column       Non-Null Count  Dtype  \n",
      "---  ------       --------------  -----  \n",
      " 0   Movie_ID     1000 non-null   int64  \n",
      " 1   Title        1000 non-null   object \n",
      " 2   Certificate  1000 non-null   object \n",
      " 3   Duration     1000 non-null   int64  \n",
      " 4   Genre        1000 non-null   object \n",
      " 5   Rate         1000 non-null   float64\n",
      " 6   Metascore    1000 non-null   int64  \n",
      " 7   Description  1000 non-null   object \n",
      " 8   Year         1000 non-null   int64  \n",
      " 9   Directors    1000 non-null   object \n",
      " 10  Stars        1000 non-null   object \n",
      " 11  Votes        1000 non-null   int64  \n",
      " 12  Gross($M)    1000 non-null   float64\n",
      "dtypes: float64(2), int64(5), object(6)\n",
      "memory usage: 101.7+ KB\n"
     ]
    }
   ],
   "source": [
    "df.info()"
   ]
  },
  {
   "cell_type": "code",
   "execution_count": 23,
   "id": "bb86ace3",
   "metadata": {},
   "outputs": [
    {
     "ename": "SyntaxError",
     "evalue": "unexpected EOF while parsing (<ipython-input-23-27b3a835d419>, line 14)",
     "output_type": "error",
     "traceback": [
      "\u001b[1;36m  File \u001b[1;32m\"<ipython-input-23-27b3a835d419>\"\u001b[1;36m, line \u001b[1;32m14\u001b[0m\n\u001b[1;33m    conn = create_server_connection(driver, server, database, user, password\u001b[0m\n\u001b[1;37m                                                                            ^\u001b[0m\n\u001b[1;31mSyntaxError\u001b[0m\u001b[1;31m:\u001b[0m unexpected EOF while parsing\n"
     ]
    }
   ],
   "source": [
    "def create_server_connection(driver, Localhost, master, user, password):\n",
    "    conn = None\n",
    "    try:\n",
    "        conn = pyodbc.connect(DRIVER=driver, SERVER=Localhost, DATABASE=Master, UID=user, PWD=password)\n",
    "        print(\"Successful!\")\n",
    "    except Error as err:\n",
    "        print(f\"Error: '{err}'\")\n",
    "    return conn\n",
    "driver = '{ODBC Driver 17 for SQL Server}'\n",
    "server = 'localhost'\n",
    "database = 'master'\n",
    "user = 'sa'\n",
    "password = 'Sc1234566'\n",
    "conn = create_server_connection(driver, server, database, user, password"
   ]
  },
  {
   "cell_type": "code",
   "execution_count": 36,
   "id": "bcd13365",
   "metadata": {},
   "outputs": [],
   "source": [
    "conn_string = 'DRIVER={SQL Server};SERVER=DESKTOP-V7B8HFS\\CINARBILISIM; DATABASE=Twitter20;Trusted_Connection=yes'"
   ]
  },
  {
   "cell_type": "code",
   "execution_count": 37,
   "id": "ed87b540",
   "metadata": {},
   "outputs": [],
   "source": [
    "conn = pyodbc.connect(conn_string);"
   ]
  },
  {
   "cell_type": "code",
   "execution_count": 38,
   "id": "ef3f3369",
   "metadata": {},
   "outputs": [],
   "source": [
    "crs = conn.cursor()"
   ]
  },
  {
   "cell_type": "code",
   "execution_count": 39,
   "id": "c245aa70",
   "metadata": {},
   "outputs": [],
   "source": [
    "conn.autocommit= True"
   ]
  },
  {
   "cell_type": "markdown",
   "id": "d225f083",
   "metadata": {},
   "source": [
    "**3- Insert the \"IMDB top 1000_LV.csv\" dataset into the database with Python.**"
   ]
  },
  {
   "cell_type": "code",
   "execution_count": 14,
   "id": "8d3583f8",
   "metadata": {},
   "outputs": [],
   "source": []
  },
  {
   "cell_type": "markdown",
   "id": "9e94e39f",
   "metadata": {},
   "source": [
    "**4- With Python and related sql queries from the database:**\n",
    "\n",
    "<br>- Find number of movies\n",
    "<br>- Find the highest rated movie\n",
    "<br>- Find the second highest rated movie\n",
    "<br>- Find the number of movies produced before 2000\n",
    "<br>- Find the average gross of the movies by years.\n",
    "<br>- Find the total number of movies by years.\n",
    "<br>- Draw the frequency graph of the film ratings.\n",
    "<br>- Find the top 10 movies with the highest gross and visualize them with a bar chart.\n",
    "<br>- Find the total groos of the movies directed Peter Jackson.\n",
    "<br>- Find the most popular star & most popular director and the number of movies they have included"
   ]
  },
  {
   "cell_type": "code",
   "execution_count": null,
   "id": "a6673a0d",
   "metadata": {},
   "outputs": [],
   "source": []
  }
 ],
 "metadata": {
  "kernelspec": {
   "display_name": "Python 3",
   "language": "python",
   "name": "python3"
  },
  "language_info": {
   "codemirror_mode": {
    "name": "ipython",
    "version": 3
   },
   "file_extension": ".py",
   "mimetype": "text/x-python",
   "name": "python",
   "nbconvert_exporter": "python",
   "pygments_lexer": "ipython3",
   "version": "3.8.8"
  }
 },
 "nbformat": 4,
 "nbformat_minor": 5
}
