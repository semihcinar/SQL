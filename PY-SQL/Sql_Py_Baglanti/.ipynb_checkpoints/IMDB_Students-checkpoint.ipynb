{
 "cells": [
  {
   "cell_type": "code",
   "execution_count": 1,
   "id": "25b1cdbb",
   "metadata": {},
   "outputs": [],
   "source": [
    "import pyodbc\n",
    "import pandas as pd\n",
    "import seaborn as sns"
   ]
  },
  {
   "cell_type": "markdown",
   "id": "4559d3dd",
   "metadata": {},
   "source": [
    "**1- Import the \"IMDB top 1000_LV.csv\" dataset with Python.**"
   ]
  },
  {
   "cell_type": "code",
   "execution_count": 4,
   "id": "a45c0ad4",
   "metadata": {},
   "outputs": [
    {
     "data": {
      "text/plain": [
       "(1000, 13)"
      ]
     },
     "execution_count": 4,
     "metadata": {},
     "output_type": "execute_result"
    }
   ],
   "source": []
  },
  {
   "cell_type": "markdown",
   "id": "3538bd1e",
   "metadata": {},
   "source": [
    "**2- Create an empty table in a database with Python.**"
   ]
  },
  {
   "cell_type": "code",
   "execution_count": 6,
   "id": "a8487c75",
   "metadata": {},
   "outputs": [
    {
     "name": "stdout",
     "output_type": "stream",
     "text": [
      "Successful!\n"
     ]
    }
   ],
   "source": []
  },
  {
   "cell_type": "code",
   "execution_count": 7,
   "id": "ce0c9909",
   "metadata": {},
   "outputs": [],
   "source": []
  },
  {
   "cell_type": "code",
   "execution_count": 8,
   "id": "bb86ace3",
   "metadata": {},
   "outputs": [],
   "source": []
  },
  {
   "cell_type": "code",
   "execution_count": 9,
   "id": "bcd13365",
   "metadata": {},
   "outputs": [
    {
     "name": "stdout",
     "output_type": "stream",
     "text": [
      "Database is created successfully\n"
     ]
    }
   ],
   "source": []
  },
  {
   "cell_type": "code",
   "execution_count": 10,
   "id": "ed87b540",
   "metadata": {},
   "outputs": [],
   "source": []
  },
  {
   "cell_type": "code",
   "execution_count": 11,
   "id": "ef3f3369",
   "metadata": {},
   "outputs": [
    {
     "name": "stdout",
     "output_type": "stream",
     "text": [
      "Query successful!\n"
     ]
    }
   ],
   "source": []
  },
  {
   "cell_type": "code",
   "execution_count": 12,
   "id": "c245aa70",
   "metadata": {},
   "outputs": [
    {
     "name": "stdout",
     "output_type": "stream",
     "text": [
      "Query successful!\n"
     ]
    }
   ],
   "source": []
  },
  {
   "cell_type": "markdown",
   "id": "d225f083",
   "metadata": {},
   "source": [
    "**3- Insert the \"IMDB top 1000_LV.csv\" dataset into the database with Python.**"
   ]
  },
  {
   "cell_type": "code",
   "execution_count": 14,
   "id": "8d3583f8",
   "metadata": {},
   "outputs": [],
   "source": []
  },
  {
   "cell_type": "markdown",
   "id": "9e94e39f",
   "metadata": {},
   "source": [
    "**4- With Python and related sql queries from the database:**\n",
    "\n",
    "<br>- Find number of movies\n",
    "<br>- Find the highest rated movie\n",
    "<br>- Find the second highest rated movie\n",
    "<br>- Find the number of movies produced before 2000\n",
    "<br>- Find the average gross of the movies by years.\n",
    "<br>- Find the total number of movies by years.\n",
    "<br>- Draw the frequency graph of the film ratings.\n",
    "<br>- Find the top 10 movies with the highest gross and visualize them with a bar chart.\n",
    "<br>- Find the total groos of the movies directed Peter Jackson.\n",
    "<br>- Find the most popular star & most popular director and the number of movies they have included"
   ]
  },
  {
   "cell_type": "code",
   "execution_count": null,
   "id": "a6673a0d",
   "metadata": {},
   "outputs": [],
   "source": []
  }
 ],
 "metadata": {
  "kernelspec": {
   "display_name": "Python 3",
   "language": "python",
   "name": "python3"
  },
  "language_info": {
   "codemirror_mode": {
    "name": "ipython",
    "version": 3
   },
   "file_extension": ".py",
   "mimetype": "text/x-python",
   "name": "python",
   "nbconvert_exporter": "python",
   "pygments_lexer": "ipython3",
   "version": "3.8.8"
  }
 },
 "nbformat": 4,
 "nbformat_minor": 5
}
